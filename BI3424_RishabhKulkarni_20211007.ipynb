{
  "nbformat": 4,
  "nbformat_minor": 0,
  "metadata": {
    "colab": {
      "provenance": [],
      "authorship_tag": "ABX9TyMsduj8PfMMXntZOfmQbrTz",
      "include_colab_link": true
    },
    "kernelspec": {
      "name": "python3",
      "display_name": "Python 3"
    },
    "language_info": {
      "name": "python"
    }
  },
  "cells": [
    {
      "cell_type": "markdown",
      "metadata": {
        "id": "view-in-github",
        "colab_type": "text"
      },
      "source": [
        "<a href=\"https://colab.research.google.com/github/rdk004/Statistical_Learning_model/blob/main/BI3424_RishabhKulkarni_20211007.ipynb\" target=\"_parent\"><img src=\"https://colab.research.google.com/assets/colab-badge.svg\" alt=\"Open In Colab\"/></a>"
      ]
    },
    {
      "cell_type": "markdown",
      "source": [
        "# PROBLEM EXPOSITION"
      ],
      "metadata": {
        "id": "U1FfXP0JvkB1"
      }
    },
    {
      "cell_type": "markdown",
      "source": [
        "TARGET FUNCTION:\n",
        "    \n",
        "    f(x) = x(1-x); f:[0,1]->R\n",
        "    Modelling logistic growth curve in an ecological environment\n",
        "\n",
        "\n",
        "TRAINING DATA SET (D):\n",
        "    N=2\n",
        "    Uniformly sampled over (0,1)\n",
        "\n",
        "\n",
        "HYPOTHESIS SET:\n",
        "    H = {H_0,H_1}\n",
        "    where,\n",
        "          H_0: h(x) = b (constant functions)\n",
        "          H_1: h(x) = ax+b (straight lines)\n",
        "\n",
        "ERM -> Minimizing least squares error (MSE) - In-sample error\n",
        "\n",
        "Sampling - For this simulation, I have considered a sampling data set consisting of 1000 datapoints. I have tried out the simulation multiple times. The word document with the results is from one of those repetitions of the simulation.\n"
      ],
      "metadata": {
        "id": "3dIYnyXxaXBj"
      }
    },
    {
      "cell_type": "markdown",
      "source": [
        "# IMPORT MODULES"
      ],
      "metadata": {
        "id": "3kT-XVtDvfxb"
      }
    },
    {
      "cell_type": "markdown",
      "source": [
        "Import all necessary modules"
      ],
      "metadata": {
        "id": "jZdviTYRahWQ"
      }
    },
    {
      "cell_type": "code",
      "source": [
        "import numpy as np\n",
        "import matplotlib.pyplot as plt\n",
        "import random\n",
        "from scipy.integrate import quad\n",
        "import pandas as pd"
      ],
      "metadata": {
        "id": "zWlI8JuUabOT"
      },
      "execution_count": null,
      "outputs": []
    },
    {
      "cell_type": "markdown",
      "source": [
        "# PLOTTING OF TARGET FUNCTION [f(x) = x(1-x)]"
      ],
      "metadata": {
        "id": "ONREVjVlvXqN"
      }
    },
    {
      "cell_type": "markdown",
      "source": [
        "Plot the target function"
      ],
      "metadata": {
        "id": "k4TmSKbearcl"
      }
    },
    {
      "cell_type": "code",
      "source": [
        "def target_function(x):\n",
        "    return x - x**2  # Replace this with your desired function\n",
        "\n",
        "# Set the domain and bin separation\n",
        "start = 0\n",
        "end = 1\n",
        "bin_size = 0.001 # Bin_size, which can be changed\n",
        "\n",
        "# Generate x values\n",
        "x_values = np.arange(start, end, bin_size)\n",
        "\n",
        "# Calculate y values using the function\n",
        "y_values = target_function(x_values)\n",
        "\n",
        "# Plot the function\n",
        "plt.plot(x_values, y_values, label='Function: $x(1-x)$')  # Update label accordingly\n",
        "\n",
        "plt.xticks(np.arange(0, 1.1, 0.1))\n",
        "plt.yticks(np.arange(0, 1.1, 0.1))\n",
        "\n",
        "# Add labels and title\n",
        "plt.xlabel('X-axis')\n",
        "plt.ylabel('Y-axis')\n",
        "plt.title('Target function (f)')\n",
        "\n",
        "# Set the y-axis limit to a specific value (e.g., 30)\n",
        "plt.ylim(0, 1)  # Adjust the upper limit as needed\n",
        "\n",
        "# Add legend\n",
        "plt.legend()\n",
        "\n",
        "# Show the plot\n",
        "plt.show()"
      ],
      "metadata": {
        "colab": {
          "base_uri": "https://localhost:8080/",
          "height": 472
        },
        "id": "O7aODOMmawR9",
        "outputId": "e8f8f123-370e-455f-ecf9-def20ef34111"
      },
      "execution_count": null,
      "outputs": [
        {
          "output_type": "display_data",
          "data": {
            "text/plain": [
              "<Figure size 640x480 with 1 Axes>"
            ],
            "image/png": "[encoded data removed]"
          },
          "metadata": {}
        }
      ]
    },
    {
      "cell_type": "markdown",
      "source": [
        "# CODE FOR UNIFORM RANDOM SAMPLING OF 2 DATA POINTS"
      ],
      "metadata": {
        "id": "xT1lEzvHvTGv"
      }
    },
    {
      "cell_type": "markdown",
      "source": [
        "Let us create a uniform sampler that will generate (x,y) coordinates (training datasets of size 2) for testing of hypothesis"
      ],
      "metadata": {
        "id": "sItAmiCZa4VK"
      }
    },
    {
      "cell_type": "code",
      "source": [
        "def uniform_sampling():\n",
        "    return (np.random.uniform(0, 1))"
      ],
      "metadata": {
        "id": "WTpne5CubCol"
      },
      "execution_count": null,
      "outputs": []
    },
    {
      "cell_type": "markdown",
      "source": [
        "Let us now create a scatter plot of training data points on target function plot"
      ],
      "metadata": {
        "id": "AjRcbADVb4Ld"
      }
    },
    {
      "cell_type": "code",
      "source": [
        "x_coord_1 = uniform_sampling()\n",
        "x_coord_2 = uniform_sampling()\n",
        "print(x_coord_1,x_coord_2)\n",
        "\n",
        "# Plot the function\n",
        "plt.plot(x_values, y_values, label='Function: $x(1-x)$')  # Update label accordingly\n",
        "\n",
        "plt.xticks(np.arange(0, 1.1, 0.1))\n",
        "plt.yticks(np.arange(0, 1.1, 0.1))\n",
        "\n",
        "# Set the y-axis limit to a specific value (e.g., 30)\n",
        "plt.ylim(0, 1)  # Adjust the upper limit as needed\n",
        "\n",
        "# Define specific coordinates (tuples)\n",
        "coordinates = [(x_coord_1, target_function(x_coord_1)), (x_coord_2, target_function(x_coord_2))]\n",
        "\n",
        "# Extract x and y values from coordinates\n",
        "x_coords, y_coords = zip(*coordinates)\n",
        "\n",
        "# Scatter plot the specific coordinates\n",
        "plt.scatter(x_coords, y_coords, color='red',label=\"Specific coordinates\")\n",
        "\n",
        "# Add labels and title\n",
        "plt.xlabel('X-axis')\n",
        "plt.ylabel('Y-axis')\n",
        "plt.title('Plot of the Function with Specific Coordinates')\n",
        "\n",
        "# Add legend\n",
        "plt.legend()"
      ],
      "metadata": {
        "colab": {
          "base_uri": "https://localhost:8080/",
          "height": 507
        },
        "id": "wNAb2vqGb9cb",
        "outputId": "5f1f4001-e14e-4111-f876-cdaf6805170e"
      },
      "execution_count": null,
      "outputs": [
        {
          "output_type": "stream",
          "name": "stdout",
          "text": [
            "0.8293800147650195 0.26985178275542854\n"
          ]
        },
        {
          "output_type": "execute_result",
          "data": {
            "text/plain": [
              "<matplotlib.legend.Legend at 0x78a42efa5ae0>"
            ]
          },
          "metadata": {},
          "execution_count": 4
        },
        {
          "output_type": "display_data",
          "data": {
            "text/plain": [
              "<Figure size 640x480 with 1 Axes>"
            ],
            "image/png": "[encoded data removed]"
          },
          "metadata": {}
        }
      ]
    },
    {
      "cell_type": "markdown",
      "source": [
        "# PLOTS FOR EACH HYPOTHESIS CLASS AFTER 1000 UNIFORM RANDOM SAMPLINGS OF 2 DATA POINTS"
      ],
      "metadata": {
        "id": "wa0eR2DAvH7t"
      }
    },
    {
      "cell_type": "markdown",
      "source": [
        "Constant lines hypothesis (H_0)"
      ],
      "metadata": {
        "id": "MSy2lie2bVUT"
      }
    },
    {
      "cell_type": "code",
      "source": [
        "# H_0: h(x) = b, where 'b' is the average y-coordinate value of the two training data points\n",
        "# Our training dataset has only two points. Let us say we sample from this uniform distribution 1000 times\n",
        "\n",
        "# First let us get our 'b' values for the 1000 samples\n",
        "x_coord_1 = 0\n",
        "x_coord_2 = 0\n",
        "y_coord_1 = 0\n",
        "y_coord_2 = 0\n",
        "const = 0 # Here const is 'b'\n",
        "constants=[]\n",
        "for i in range(100000):\n",
        "  x_coord_1 = uniform_sampling()\n",
        "  x_coord_2 = uniform_sampling()\n",
        "  y_coord_1 = target_function(x_coord_1)\n",
        "  y_coord_2 = target_function(x_coord_2)\n",
        "  const = (y_coord_1+y_coord_2)/2\n",
        "  constants.append(const)\n",
        "\n",
        "# Plot the target function\n",
        "plt.plot(x_values, y_values, label='Function: $x(1-x)$')  # Update label accordingly\n",
        "\n",
        "# Plotting the constant lines\n",
        "plt.plot([], [])  # Create an empty plot\n",
        "for constant in constants:\n",
        "    plt.axhline(y=constant, color='grey')\n",
        "\n",
        "# Set the y-axis limit to a specific value (e.g., 30)\n",
        "plt.ylim(0, 1)  # Adjust the upper limit as needed\n",
        "\n",
        "plt.xticks(np.arange(0, 1.1, 0.1))\n",
        "plt.yticks(np.arange(0, 1.1, 0.1))\n",
        "\n",
        "# Add labels and a legend\n",
        "plt.xlabel('X-axis')\n",
        "plt.ylabel('Y-axis')\n",
        "plt.title('Constant line hypothesis (H_0)')\n",
        "plt.legend()\n",
        "\n",
        "# Display the plot\n",
        "plt.show()"
      ],
      "metadata": {
        "colab": {
          "base_uri": "https://localhost:8080/",
          "height": 472
        },
        "id": "MfPn8aPfbf3U",
        "outputId": "ab44b480-3ba0-4015-aebb-f19680603835"
      },
      "execution_count": null,
      "outputs": [
        {
          "output_type": "display_data",
          "data": {
            "text/plain": [
              "<Figure size 640x480 with 1 Axes>"
            ],
            "image/png": "[encoded data removed]"
          },
          "metadata": {}
        }
      ]
    },
    {
      "cell_type": "markdown",
      "source": [
        "Straight lines hypothesis (H_1)"
      ],
      "metadata": {
        "id": "ukIvK7eRiLPh"
      }
    },
    {
      "cell_type": "code",
      "source": [
        "# H_1: h(x) = ax + b, where 'a' is the slope of the line joining the two points and 'b' is the y-intercept of that line\n",
        "# Our training dataset has only two points. Let us say we sample from this uniform distribution 1000 times.\n",
        "\n",
        "# Let us get our 'a' and 'b' values from sampling\n",
        "x_coord_1 = 0\n",
        "x_coord_2 = 0\n",
        "y_coord_1 = 0\n",
        "y_coord_2 = 0\n",
        "a = 0\n",
        "b = 0\n",
        "a_array=[]\n",
        "b_array=[]\n",
        "for i in range(100000):\n",
        "  x_coord_1 = uniform_sampling()\n",
        "  x_coord_2 = uniform_sampling()\n",
        "  y_coord_1 = target_function(x_coord_1)\n",
        "  y_coord_2 = target_function(x_coord_2)\n",
        "  a = (y_coord_2-y_coord_1)/(x_coord_2-x_coord_1) # slope\n",
        "  b = y_coord_1 - a*x_coord_1 # y-intercept\n",
        "  a_array.append(a)\n",
        "  b_array.append(b)\n",
        "\n",
        "\n",
        "# Plotting\n",
        "plt.plot([], [])  # Create an empty plot\n",
        "\n",
        "# Let us generate an numpy array of x values\n",
        "x=0\n",
        "x_array=[]\n",
        "for i in range(100000):\n",
        "  x = uniform_sampling()\n",
        "  x_array.append(x)\n",
        "\n",
        "x_val = np.array(x_array)\n",
        "\n",
        "for a, b in zip(a_array, b_array):\n",
        "    y = a * x_val + b\n",
        "    plt.plot(x_val, y,color='grey')\n",
        "\n",
        "# Plot the target function\n",
        "plt.plot(x_values, y_values, label='Function: $x(1-x)$', color='blue')  # Update label accordingly\n",
        "\n",
        "# Set the y-axis limit to a specific value (e.g., 30)\n",
        "plt.ylim(0, 1)  # Adjust the upper limit as needed\n",
        "\n",
        "plt.xticks(np.arange(0, 1.1, 0.1))\n",
        "plt.yticks(np.arange(0, 1.1, 0.1))\n",
        "\n",
        "# Add labels and a legend\n",
        "plt.xlabel('X-axis')\n",
        "plt.ylabel('Y-axis')\n",
        "plt.title('Straight line hypothesis (H_1)')\n",
        "plt.legend()\n",
        "\n",
        "# Display the plot\n",
        "plt.show()"
      ],
      "metadata": {
        "id": "rVGwNJ4qiPzC"
      },
      "execution_count": null,
      "outputs": []
    },
    {
      "cell_type": "markdown",
      "source": [
        "# AVERAGE MODELS FOR EACH HYPOTHESIS CLASS (ħ(x)) - Learning Algorithm"
      ],
      "metadata": {
        "id": "EmYgPYWIu9Ej"
      }
    },
    {
      "cell_type": "markdown",
      "source": [
        "Let us now plot the average model for hypothesis H_0 (ħ(x))"
      ],
      "metadata": {
        "id": "etQVBs7gg8nY"
      }
    },
    {
      "cell_type": "code",
      "source": [
        "# First we have to convert all normal arrays into Numpy arrays\n",
        "const_array_hp_0 = np.array(constants)\n",
        "\n",
        "# Let us find the mean values of each of these arrays\n",
        "const_mean_hp_0 = np.mean(const_array_hp_0)\n",
        "\n",
        "# Let us plot these along with the target function separately\n",
        "\n",
        "# Plot the target function (hypothesis H_0)\n",
        "plt.plot(x_values, y_values, label='Function: $x(1-x)$', color='blue')  # Update label accordingly\n",
        "\n",
        "\n",
        "# Set the y-axis limit to a specific value (e.g., 30)\n",
        "plt.ylim(0, 1)  # Adjust the upper limit as needed\n",
        "\n",
        "plt.xticks(np.arange(0, 1.1, 0.1))\n",
        "plt.yticks(np.arange(0, 1.1, 0.1))\n",
        "\n",
        "plt.axhline(y=const_mean_hp_0, color='black', label=f'Constant Line: y={const_mean_hp_0}')\n",
        "\n",
        "# Add labels and a legend\n",
        "plt.xlabel('X-axis')\n",
        "plt.ylabel('Y-axis')\n",
        "plt.title('Average model of hypothesis class H_0 ((ħ(x) = b_avg)')\n",
        "\n",
        "plt.legend()\n",
        "plt.show()\n",
        "\n",
        "\n"
      ],
      "metadata": {
        "id": "_R0O9ke3hnR8"
      },
      "execution_count": null,
      "outputs": []
    },
    {
      "cell_type": "markdown",
      "source": [
        "Let us now plot the average line for hypothesis H_1 (ħ(x))"
      ],
      "metadata": {
        "id": "ON9SWyBWrAVp"
      }
    },
    {
      "cell_type": "code",
      "source": [
        "# First we have to convert all normal arrays into Numpy arrays\n",
        "a_array_hp_1 = np.array(a_array)\n",
        "b_array_hp_1 = np.array(b_array)\n",
        "\n",
        "# Let us find the mean values of each of these arrays\n",
        "\n",
        "a_mean_hp_1 = np.mean(a_array_hp_1)\n",
        "b_mean_hp_1 = np.mean(b_array_hp_1)\n",
        "\n",
        "print(a_mean_hp_1,b_mean_hp_1)\n",
        "\n",
        "# Let us define the x coordinates for the line\n",
        "x_coordinates = np.linspace(0, 1, 10)\n",
        "\n",
        "# Use the slope and intercept to calculate y values\n",
        "y_coordinates = a_mean_hp_1 * x_coordinates + b_mean_hp_1\n",
        "\n",
        "# Plot the line\n",
        "plt.plot(x_coordinates, y_coordinates, label=f'y = {a_mean_hp_1}x + {b_mean_hp_1}',color='black')\n",
        "\n",
        "# Plot the target function (hypothesis H_1)\n",
        "plt.plot(x_values, y_values, label='Function: $x(1-x)$', color='blue')  # Update label accordingly\n",
        "\n",
        "# Set the y-axis limit to a specific value (e.g., 30)\n",
        "plt.ylim(0, 1)  # Adjust the upper limit as needed\n",
        "\n",
        "plt.yticks(np.arange(0, 1.1, 0.1))\n",
        "plt.xticks(np.arange(0, 1.1, 0.1))\n",
        "\n",
        "# Add labels and a legend\n",
        "plt.xlabel('X-axis')\n",
        "plt.ylabel('Y-axis')\n",
        "plt.title('Average model of hypothesis class H_1 ((ħ(x) = a_avg*x + b_avg)')\n",
        "plt.legend()\n",
        "plt.show()\n",
        "\n"
      ],
      "metadata": {
        "id": "knqBuu-cqozR"
      },
      "execution_count": null,
      "outputs": []
    },
    {
      "cell_type": "markdown",
      "source": [
        "# BIAS CALCULATION"
      ],
      "metadata": {
        "id": "BNv06OgjuutR"
      }
    },
    {
      "cell_type": "markdown",
      "source": [
        "Let us find the bias for hypothesis H_0:\n",
        "\n",
        "Bias = E_x[bias(x)] = E_x[(ħ(x) - f(x))^2]"
      ],
      "metadata": {
        "id": "gj9VagfQQd-g"
      }
    },
    {
      "cell_type": "code",
      "source": [
        "# We will integrate the above function with limits 0 and 1\n",
        "def integrand_hp_0(x):\n",
        "\treturn (const_mean_hp_0 - x + x**2)**2\n",
        "bias_hp_0 = quad(integrand_hp_0,0,1)\n",
        "print(bias_hp_0)"
      ],
      "metadata": {
        "id": "3b_3KhKcQkap"
      },
      "execution_count": null,
      "outputs": []
    },
    {
      "cell_type": "markdown",
      "source": [
        "Let us find bias for hypothesis H_1:"
      ],
      "metadata": {
        "id": "m24YNuV_S1Gl"
      }
    },
    {
      "cell_type": "code",
      "source": [
        "# We will integrate the above function with limits 0 and 1\n",
        "def integrand_hp_1(x):\n",
        "\treturn (a_mean_hp_1*x + b_mean_hp_1 - x + x**2)**2\n",
        "bias_hp_1 = quad(integrand_hp_1,0,1)\n",
        "print(bias_hp_1)"
      ],
      "metadata": {
        "id": "ThpqutJ6S58l"
      },
      "execution_count": null,
      "outputs": []
    },
    {
      "cell_type": "markdown",
      "source": [
        "# VARIANCE CALCULATION"
      ],
      "metadata": {
        "id": "WoSSaG4iu0fH"
      }
    },
    {
      "cell_type": "markdown",
      "source": [
        "Let us find the variance for hypothesis H_0:\n",
        "\n",
        "Variance = E_x[var(x)] = E_x[E_D[(h^(D)(x) - ħ(x))^2]] = E_D[E_x[(h^(D)(x) - ħ(x))^2]]"
      ],
      "metadata": {
        "id": "SiqMP2HpTwjv"
      }
    },
    {
      "cell_type": "code",
      "source": [
        "# We will integrate the inner expectation with limits 0 and 1 for every possible model function and add the integral values over entire sample space.\n",
        "# Here h^(D)(x) is our model function for every sampling iteration. We have considered 1000 iterations here.\n",
        "\n",
        "var_iteration = 0 # for every model function\n",
        "var_iteration_arr = []\n",
        "var_total_hp_0 = 0 # total variance variable\n",
        "\n",
        "def integrand_hp_0(x,var_total_hp_0):\n",
        "    return var_total_hp_0\n",
        "\n",
        "for const in constants:\n",
        "  var_iteration = (const - const_mean_hp_0)**2 # Variance at a given 'x' value\n",
        "  var_iteration_arr.append(var_iteration)\n",
        "  var_total_hp_0+=var_iteration\n",
        "\n",
        "var_total_hp_0/=100000 # E_D[(h^(D)(x) - ħ(x))^2]\n",
        "\n",
        "var_final_hp_0 = quad(integrand_hp_0,0,1,args=(var_total_hp_0)) # E_x[E_D[(h^(D)(x) - ħ(x))^2]]\n",
        "\n",
        "print(var_final_hp_0) # Variance plus error term"
      ],
      "metadata": {
        "id": "TOQzuCGiT1L8"
      },
      "execution_count": null,
      "outputs": []
    },
    {
      "cell_type": "markdown",
      "source": [
        "Let us find the variance for hypothesis H_1:"
      ],
      "metadata": {
        "id": "A5VGYJzgYePV"
      }
    },
    {
      "cell_type": "code",
      "source": [
        "# We will integrate the inner expectation with limits 0 and 1 for every possible model function and add the integral values over entire sample space.\n",
        "# Here h^(D)(x) is our model function for every sampling iteration. We have considered 1000 iterations here.\n",
        "var_iteration = 0 # for every model function\n",
        "var_iteration_arr_hp_1 = []\n",
        "var_total_hp_1 = 0 # total variance variable\n",
        "var_error_arr = []\n",
        "\n",
        "def integrand_hp_1(x,a_model,b_model,a_mean_hp_1,b_mean_hp_1):\n",
        "    return (a_model*x + b_model - a_mean_hp_1*x - b_mean_hp_1)**2\n",
        "\n",
        "a_model=0\n",
        "b_model=0\n",
        "\n",
        "for i in range(100000):\n",
        "  a_model = a_array[i]\n",
        "  b_model = b_array[i]\n",
        "  var_iteration = quad(integrand_hp_1,0,1,args=(a_model,b_model,a_mean_hp_1,b_mean_hp_1)) # E_x[(h^(D)(x) - ħ(x))^2]\n",
        "  var_iteration_arr_hp_1.append(var_iteration[0])\n",
        "  var_total_hp_1+=var_iteration[0]\n",
        "  var_error_arr.append(var_iteration[1])\n",
        "\n",
        "var_final_hp_1 = var_total_hp_1/100000 # E_D[E_x[(h^(D)(x) - ħ(x))^2]]\n",
        "\n",
        "print(var_final_hp_1, (sum(var_error_arr))/1000) # Variance plus error term"
      ],
      "metadata": {
        "id": "x3uKhkQPYnhm"
      },
      "execution_count": null,
      "outputs": []
    },
    {
      "cell_type": "markdown",
      "source": [
        "# PLOT WITH BIAS AND VARIANCE FOR EACH HYPOTHESIS CLASS"
      ],
      "metadata": {
        "id": "XVC0XiwkumQ6"
      }
    },
    {
      "cell_type": "code",
      "source": [
        "# Plot the target function (hypothesis H_0)\n",
        "plt.plot(x_values, y_values, label='Function: $x(1-x)$', color='blue')  # Update label accordingly\n",
        "\n",
        "# Set the y-axis limit to a specific value (e.g., 30)\n",
        "plt.ylim(0, 1)  # Adjust the upper limit as needed\n",
        "\n",
        "plt.xticks(np.arange(0, 1.1, 0.1))\n",
        "plt.yticks(np.arange(0, 1.1, 0.1))\n",
        "\n",
        "plt.axhline(y=const_mean_hp_0, color='black', label=f'ħ(x): y={const_mean_hp_0}')\n",
        "\n",
        "# Add labels and a legend\n",
        "plt.xlabel('X-axis')\n",
        "plt.ylabel('Y-axis')\n",
        "plt.title('Average line of hypothesis H_0 ((ħ(x) = b_avg)')\n",
        "\n",
        "# Showing variance\n",
        "y_mean = np.full(100000, const_mean_hp_0, dtype=float)\n",
        "x = np.linspace(0,1,100000)\n",
        "var_hp_0 = np.array(var_iteration_arr)\n",
        "plt.fill_between(x, y_mean - var_hp_0, y_mean + var_hp_0, alpha=1, label='var(x): Variance at each point', color='orange')\n",
        "\n",
        "plt.legend()\n",
        "caption_text = f'bias = {round(bias_hp_0[0],3)}           var = {round(var_final_hp_0[0],3)}'\n",
        "plt.text(0.5,0.5,caption_text, fontsize=12, color='green', ha='center', va='center')\n",
        "plt.show()"
      ],
      "metadata": {
        "id": "c05FQjTvaK_t"
      },
      "execution_count": null,
      "outputs": []
    },
    {
      "cell_type": "code",
      "source": [
        "# Let us define the x coordinates for the line\n",
        "x_coordinates = np.linspace(0, 1, 10)\n",
        "\n",
        "# Use the slope and intercept to calculate y values\n",
        "y_coordinates = a_mean_hp_1 * x_coordinates + b_mean_hp_1\n",
        "\n",
        "# Plot the line\n",
        "plt.plot(x_coordinates, y_coordinates, label=f'ħ(x) = {a_mean_hp_1}x + {b_mean_hp_1}',color='black')\n",
        "\n",
        "# Plot the target function (hypothesis H_1)\n",
        "plt.plot(x_values, y_values, label='Function: $x(1-x)$', color='blue')  # Update label accordingly\n",
        "\n",
        "# Set the y-axis limit to a specific value (e.g., 30)\n",
        "plt.ylim(0, 1)  # Adjust the upper limit as needed\n",
        "\n",
        "plt.yticks(np.arange(0, 1.1, 0.1))\n",
        "plt.xticks(np.arange(0, 1.1, 0.1))\n",
        "\n",
        "# Add labels and a legend\n",
        "plt.xlabel('X-axis')\n",
        "plt.ylabel('Y-axis')\n",
        "plt.title('Average line of hypothesis H_1 ((ħ(x): y = a_avg*x + b_avg)')\n",
        "\n",
        "\n",
        "# Showing variance\n",
        "\n",
        "x = np.linspace(0,1,100000)\n",
        "y_mean = a_mean_hp_1*x + b_mean_hp_1\n",
        "y_variance = np.array(var_iteration_arr_hp_1)\n",
        "\n",
        "# Fill between the upper and lower bounds to represent variance\n",
        "plt.fill_between(x, y_mean - y_variance, y_mean + y_variance, alpha=1, label='var(x): Variance at each point', color='orange')\n",
        "plt.legend()\n",
        "caption_text = f'bias = {round(bias_hp_1[0],3)}           var = {round(var_final_hp_1,3)}'\n",
        "plt.text(0.5,0.5,caption_text, fontsize=12, color='green', ha='center', va='center')\n",
        "plt.show()"
      ],
      "metadata": {
        "id": "x3Vdky4XcvWO"
      },
      "execution_count": null,
      "outputs": []
    },
    {
      "cell_type": "markdown",
      "source": [
        "# MSE"
      ],
      "metadata": {
        "id": "n-OgYvNTufbv"
      }
    },
    {
      "cell_type": "markdown",
      "source": [
        "We will now try to find the best hypothesis MSE wise (first hypothesis H_0):"
      ],
      "metadata": {
        "id": "LclyM1pSe9JC"
      }
    },
    {
      "cell_type": "code",
      "source": [
        "mse_model_array_hp_0 = []\n",
        "mse_model = 0\n",
        "def integrand_hp_0(x,const_model):\n",
        "    return ((const_model - x + x**2)**2)\n",
        "\n",
        "for const_model in constants:\n",
        "  mse_model = quad(integrand_hp_0,0,1,args=(const_model))\n",
        "  mse_model_array_hp_0.append(mse_model[0])\n",
        "\n",
        "min_mse = min(mse_model_array_hp_0) # MSE of best fitting model\n",
        "index_mse = mse_model_array_hp_0.index(min_mse)\n",
        "best_model_const = constants[index_mse]\n",
        "\n",
        "# Plot the target function (hypothesis H_0)\n",
        "plt.plot(x_values, y_values, label='Function: $x(1-x)$', color='blue')  # Update label accordingly\n",
        "\n",
        "# Set the y-axis limit to a specific value (e.g., 30)\n",
        "plt.ylim(0, 1)  # Adjust the upper limit as needed\n",
        "\n",
        "plt.xticks(np.arange(0, 1.1, 0.1))\n",
        "plt.yticks(np.arange(0, 1.1, 0.1))\n",
        "\n",
        "plt.axhline(y=best_model_const, color='black', label=f'Constant Line: y={best_model_const}')\n",
        "\n",
        "# Add labels and a legend\n",
        "plt.xlabel('X-axis')\n",
        "plt.ylabel('Y-axis')\n",
        "plt.title('Best H_0 class model function (MSE wise)')\n",
        "\n",
        "plt.legend()\n",
        "caption_text = f'MSE = {min_mse}'\n",
        "plt.text(0.5,0.5,caption_text, fontsize=12, color='green', ha='center', va='center')\n",
        "plt.show()"
      ],
      "metadata": {
        "id": "jq8WxZEYgAPK"
      },
      "execution_count": null,
      "outputs": []
    },
    {
      "cell_type": "markdown",
      "source": [
        "Hypothesis class H_1:"
      ],
      "metadata": {
        "id": "PNiQmGx3ju8O"
      }
    },
    {
      "cell_type": "code",
      "source": [
        "mse_model_array_hp_1 = []\n",
        "mse_model_hp_1 = 0\n",
        "def integrand_hp_0(x,a_model,b_model):\n",
        "    return ((a_model*x + b_model - x + x**2)**2)\n",
        "\n",
        "a_model=0\n",
        "b_model=0\n",
        "\n",
        "for i in range(100000):\n",
        "  a_model=a_array[i]\n",
        "  b_model=b_array[i]\n",
        "  mse_model_hp_1 = quad(integrand_hp_0,0,1,args=(a_model,b_model))\n",
        "  mse_model_array_hp_1.append(mse_model_hp_1[0])\n",
        "\n",
        "min_mse_hp_1 = min(mse_model_array_hp_1) # MSE of best fitting model\n",
        "index_mse = mse_model_array_hp_1.index(min_mse_hp_1)\n",
        "best_model_a = a_array[index_mse]\n",
        "best_model_b = b_array[index_mse]\n",
        "\n",
        "# Let us define the x coordinates for the line\n",
        "x_coordinates = np.linspace(0, 1, 10)\n",
        "\n",
        "# Use the slope and intercept to calculate y values\n",
        "y_coordinates = best_model_a * x_coordinates + best_model_b\n",
        "\n",
        "# Plot the line\n",
        "plt.plot(x_coordinates, y_coordinates, label=f'y = {best_model_a}x + {best_model_b}',color='black')\n",
        "\n",
        "# Plot the target function (hypothesis H_1)\n",
        "plt.plot(x_values, y_values, label='Function: $x(1-x)$', color='blue')  # Update label accordingly\n",
        "\n",
        "# Set the y-axis limit to a specific value (e.g., 30)\n",
        "plt.ylim(0, 1)  # Adjust the upper limit as needed\n",
        "\n",
        "plt.yticks(np.arange(0, 1.1, 0.1))\n",
        "plt.xticks(np.arange(0, 1.1, 0.1))\n",
        "\n",
        "# Add labels and a legend\n",
        "plt.xlabel('X-axis')\n",
        "plt.ylabel('Y-axis')\n",
        "plt.title('Best H_1 class model function (MSE wise)')\n",
        "\n",
        "plt.legend()\n",
        "caption_text = f'MSE = {min_mse_hp_1}'\n",
        "plt.text(0.5,0.5,caption_text, fontsize=12, color='green', ha='center', va='center')\n",
        "plt.show()"
      ],
      "metadata": {
        "id": "KcWtDyrojyd2"
      },
      "execution_count": null,
      "outputs": []
    },
    {
      "cell_type": "markdown",
      "source": [
        "# DATAFRAME WITH IMPORTANT INFORMATION"
      ],
      "metadata": {
        "id": "q7TvMaN1uU70"
      }
    },
    {
      "cell_type": "markdown",
      "source": [
        "Let us create a dataframe to store all important data"
      ],
      "metadata": {
        "id": "DT6Fbg-wo-qu"
      }
    },
    {
      "cell_type": "code",
      "source": [
        "dict_data = {'Hypothesis class':['H_0','H_1'],'Out of sample error':[bias_hp_0[0]+var_final_hp_0[0],bias_hp_1[0]+var_final_hp_1],'Bias':[bias_hp_0[0],bias_hp_1[0]],'Variance':[var_final_hp_0[0],var_final_hp_1],'MSE':[min_mse,min_mse_hp_1],'Best fitting models produced by learning algorithm':[f'y = {round(const_mean_hp_0,3)}',f'y = {round(a_mean_hp_1,3)}x + {round(b_mean_hp_1,3)}']}\n",
        "hp_model_df = pd.DataFrame(dict_data)\n",
        "hp_model_df"
      ],
      "metadata": {
        "id": "zLZJji6yo0fd"
      },
      "execution_count": null,
      "outputs": []
    },
    {
      "cell_type": "markdown",
      "source": [
        "The better hypothesis class (MSE wise) is H_0\n",
        "\n",
        "E_out_H_0 = 0.008 (in the word file, due to rounding off, the value is 0.009)\n",
        "\n",
        "E_out_H_1 = 0.035\n",
        "\n",
        "bias_H_0 = 0.006, var_H_0 = 0.003\n",
        "\n",
        "bias_H_1 = 0.013, var_H_1 = 0.022\n",
        "\n",
        "Expectation values of the hypotheses w.r.t D:\n",
        "\n",
        "H_0: h(x) = b; ħ(x) = 0.167\n",
        "\n",
        "H_1: h(x) = ax + b; ħ(x) = 0.016x + 0.243\n",
        "\n",
        "Note: All of these have been calculated by uniform random sampling of two data points from the distribution 1000 times. These values can change slightly each time the simulation is repeated\n",
        "\n",
        "CONCLUSION: Overall, the better hypothesis class for prediction is H_0: h(x) = b\n"
      ],
      "metadata": {
        "id": "Qg6yPRsGsVOL"
      }
    }
  ]
}